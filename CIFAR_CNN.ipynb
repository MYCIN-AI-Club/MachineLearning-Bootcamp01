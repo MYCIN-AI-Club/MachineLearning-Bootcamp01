{
  "cells": [
    {
      "cell_type": "markdown",
      "metadata": {
        "id": "view-in-github",
        "colab_type": "text"
      },
      "source": [
        "<a href=\"https://colab.research.google.com/github/invinciblebansal/MachineLearning-Bootcamp01/blob/main/CIFAR_CNN.ipynb\" target=\"_parent\"><img src=\"https://colab.research.google.com/assets/colab-badge.svg\" alt=\"Open In Colab\"/></a>"
      ]
    },
    {
      "cell_type": "markdown",
      "source": [
        "Importing the necessary libraries\n",
        "Importing dataset from keras itself."
      ],
      "metadata": {
        "id": "-c7jpDJ9pxK4"
      }
    },
    {
      "cell_type": "code",
      "execution_count": 2,
      "metadata": {
        "id": "2a_RWpqDH_ml"
      },
      "outputs": [],
      "source": [
        "from keras.datasets import cifar10\n",
        "from keras.models import Sequential\n",
        "from keras.layers import Dense, Dropout, Conv2D, MaxPool2D, Flatten\n",
        "from keras.utils import np_utils\n"
      ]
    },
    {
      "cell_type": "markdown",
      "source": [
        "The dataset is taken from kras.datasets. It contains 60000 32*32 images in 10 classeswith 6000 images in each class."
      ],
      "metadata": {
        "id": "812pv8dgqPl4"
      }
    },
    {
      "cell_type": "code",
      "execution_count": 3,
      "metadata": {
        "id": "HjxscXhWJHtZ",
        "colab": {
          "base_uri": "https://localhost:8080/"
        },
        "outputId": "c05036e6-c7d0-4a9f-8702-cbbfb5d6d467"
      },
      "outputs": [
        {
          "output_type": "stream",
          "name": "stdout",
          "text": [
            "Downloading data from https://www.cs.toronto.edu/~kriz/cifar-10-python.tar.gz\n",
            "170500096/170498071 [==============================] - 2s 0us/step\n",
            "170508288/170498071 [==============================] - 2s 0us/step\n"
          ]
        }
      ],
      "source": [
        "(X_train,y_train), (X_test, y_test)=cifar10.load_data() "
      ]
    },
    {
      "cell_type": "markdown",
      "source": [
        "Reshaping the data to train our model smoothly."
      ],
      "metadata": {
        "id": "Iv3sfbus2L58"
      }
    },
    {
      "cell_type": "code",
      "execution_count": 4,
      "metadata": {
        "id": "wNSOG_e_JHwy"
      },
      "outputs": [],
      "source": [
        "X_train=X_train.reshape(X_train.shape[0],32,32,3)\n",
        "X_test=X_test.reshape(X_test.shape[0],32,32,3)\n",
        "X_train=X_train.astype('float32')\n",
        "X_test=X_test.astype('float32')"
      ]
    },
    {
      "cell_type": "markdown",
      "source": [
        "#Normalisation"
      ],
      "metadata": {
        "id": "fjorYphP2SqO"
      }
    },
    {
      "cell_type": "code",
      "execution_count": 5,
      "metadata": {
        "id": "6OqIn3tzJH0R"
      },
      "outputs": [],
      "source": [
        "X_train /=255\n",
        "X_test /=255"
      ]
    },
    {
      "cell_type": "markdown",
      "source": [
        "Encoding our data into different classes."
      ],
      "metadata": {
        "id": "dr9YxwNA2W9P"
      }
    },
    {
      "cell_type": "code",
      "execution_count": 6,
      "metadata": {
        "colab": {
          "base_uri": "https://localhost:8080/"
        },
        "id": "XVBKIlCiJH3a",
        "outputId": "91e5dc48-2803-414b-a00d-b0fd7a29c284"
      },
      "outputs": [
        {
          "output_type": "stream",
          "name": "stdout",
          "text": [
            "shape before one hot encoding:  (50000, 1)\n",
            "shape after one hot encoding:  (50000, 10)\n"
          ]
        }
      ],
      "source": [
        "n_classes=10\n",
        "print(\"shape before one hot encoding: \",y_train.shape)\n",
        "Y_train=np_utils.to_categorical(y_train,n_classes)\n",
        "Y_test=np_utils.to_categorical(y_test,n_classes)\n",
        "print(\"shape after one hot encoding: \", Y_train.shape)"
      ]
    },
    {
      "cell_type": "markdown",
      "source": [
        "Creating the model and performing the first cnn layer"
      ],
      "metadata": {
        "id": "lKa8g0T-2jwO"
      }
    },
    {
      "cell_type": "code",
      "execution_count": 7,
      "metadata": {
        "id": "aQJd74MvJH6Z"
      },
      "outputs": [],
      "source": [
        "\n",
        "model=Sequential()\n",
        "model.add(Conv2D(50,kernel_size=(3,3), strides=(1,1), padding='same', activation='relu',input_shape=(32,32,3)))\n"
      ]
    },
    {
      "cell_type": "code",
      "execution_count": 8,
      "metadata": {
        "id": "VeEyVWs3JH9T"
      },
      "outputs": [],
      "source": [
        "model.add(Conv2D(75,kernel_size=(3,3), strides=(1,1), padding='same',activation='relu'))\n",
        "model.add(MaxPool2D(pool_size=(2,2)))\n",
        "model.add(Dropout(0.25))"
      ]
    },
    {
      "cell_type": "code",
      "execution_count": 9,
      "metadata": {
        "id": "l-ps4MfcJH_8"
      },
      "outputs": [],
      "source": [
        "\n",
        "model.add(Conv2D(125,kernel_size=(3,3),strides=(1,1),padding='same',activation='relu'))\n",
        "model.add(MaxPool2D(pool_size=(2,2)))\n",
        "model.add(Dropout(0.25))"
      ]
    },
    {
      "cell_type": "code",
      "execution_count": 10,
      "metadata": {
        "id": "bPiIC5n9svaH"
      },
      "outputs": [],
      "source": [
        "model.add(Flatten())"
      ]
    },
    {
      "cell_type": "code",
      "execution_count": 11,
      "metadata": {
        "id": "4V66FKuGs1YC"
      },
      "outputs": [],
      "source": [
        "model.add(Dense(500,activation='relu'))\n",
        "model.add(Dropout(0.4))\n",
        "model.add(Dense(250,activation='relu'))\n",
        "model.add(Dropout(0.3))"
      ]
    },
    {
      "cell_type": "code",
      "execution_count": 12,
      "metadata": {
        "id": "zh90deCotUTv"
      },
      "outputs": [],
      "source": [
        "model.add(Dense(10, activation='softmax'))\n",
        "model.compile(loss='categorical_crossentropy', metrics=['accuracy'],optimizer='adam')"
      ]
    },
    {
      "cell_type": "markdown",
      "source": [
        "Fitting or training our model according to the training data."
      ],
      "metadata": {
        "id": "OWn8Id222twm"
      }
    },
    {
      "cell_type": "code",
      "execution_count": 13,
      "metadata": {
        "colab": {
          "base_uri": "https://localhost:8080/"
        },
        "id": "nCPIOMdkt6ak",
        "outputId": "8c867fde-5d16-4c4f-dd7c-04e8bedb6e50"
      },
      "outputs": [
        {
          "output_type": "stream",
          "name": "stdout",
          "text": [
            "Epoch 1/10\n",
            "391/391 [==============================] - 21s 24ms/step - loss: 1.5645 - accuracy: 0.4244 - val_loss: 1.2005 - val_accuracy: 0.5770\n",
            "Epoch 2/10\n",
            "391/391 [==============================] - 9s 22ms/step - loss: 1.1027 - accuracy: 0.6073 - val_loss: 0.9410 - val_accuracy: 0.6746\n",
            "Epoch 3/10\n",
            "391/391 [==============================] - 9s 22ms/step - loss: 0.9081 - accuracy: 0.6797 - val_loss: 0.7905 - val_accuracy: 0.7267\n",
            "Epoch 4/10\n",
            "391/391 [==============================] - 9s 22ms/step - loss: 0.7898 - accuracy: 0.7257 - val_loss: 0.7726 - val_accuracy: 0.7377\n",
            "Epoch 5/10\n",
            "391/391 [==============================] - 9s 23ms/step - loss: 0.7044 - accuracy: 0.7523 - val_loss: 0.6833 - val_accuracy: 0.7664\n",
            "Epoch 6/10\n",
            "391/391 [==============================] - 9s 22ms/step - loss: 0.6251 - accuracy: 0.7804 - val_loss: 0.6671 - val_accuracy: 0.7710\n",
            "Epoch 7/10\n",
            "391/391 [==============================] - 9s 23ms/step - loss: 0.5763 - accuracy: 0.7981 - val_loss: 0.6578 - val_accuracy: 0.7755\n",
            "Epoch 8/10\n",
            "391/391 [==============================] - 9s 23ms/step - loss: 0.5200 - accuracy: 0.8167 - val_loss: 0.6748 - val_accuracy: 0.7790\n",
            "Epoch 9/10\n",
            "391/391 [==============================] - 9s 23ms/step - loss: 0.4760 - accuracy: 0.8328 - val_loss: 0.6706 - val_accuracy: 0.7772\n",
            "Epoch 10/10\n",
            "391/391 [==============================] - 9s 23ms/step - loss: 0.4333 - accuracy: 0.8473 - val_loss: 0.6493 - val_accuracy: 0.7808\n"
          ]
        },
        {
          "output_type": "execute_result",
          "data": {
            "text/plain": [
              "<keras.callbacks.History at 0x7f20f0785890>"
            ]
          },
          "metadata": {},
          "execution_count": 13
        }
      ],
      "source": [
        "model.fit(X_train,Y_train,batch_size=128,epochs=10,validation_data=(X_test,Y_test))"
      ]
    },
    {
      "cell_type": "code",
      "execution_count": null,
      "metadata": {
        "id": "Ggf2CjhNuqTr"
      },
      "outputs": [],
      "source": []
    }
  ],
  "metadata": {
    "colab": {
      "provenance": [],
      "collapsed_sections": [],
      "authorship_tag": "ABX9TyNma7K7DXmhu7ow9oFwiBSz",
      "include_colab_link": true
    },
    "kernelspec": {
      "display_name": "Python 3",
      "name": "python3"
    },
    "language_info": {
      "name": "python"
    }
  },
  "nbformat": 4,
  "nbformat_minor": 0
}