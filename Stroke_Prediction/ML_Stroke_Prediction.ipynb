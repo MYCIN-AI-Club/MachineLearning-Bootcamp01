{
 "cells": [
  {
   "cell_type": "markdown",
   "metadata": {},
   "source": [
    "Importing the Essential Libraries"
   ]
  },
  {
   "cell_type": "code",
   "execution_count": 2,
   "metadata": {},
   "outputs": [],
   "source": [
    "import pandas as pd\n",
    "import numpy as np\n",
    "import matplotlib.pyplot as plt"
   ]
  },
  {
   "cell_type": "markdown",
   "metadata": {},
   "source": [
    "Analysing the dataset"
   ]
  },
  {
   "cell_type": "code",
   "execution_count": 3,
   "metadata": {},
   "outputs": [],
   "source": [
    "dataset = pd.read_csv(\"healthcare-dataset-stroke-data.csv\")"
   ]
  },
  {
   "cell_type": "code",
   "execution_count": 4,
   "metadata": {},
   "outputs": [
    {
     "data": {
      "text/html": [
       "<div>\n",
       "<style scoped>\n",
       "    .dataframe tbody tr th:only-of-type {\n",
       "        vertical-align: middle;\n",
       "    }\n",
       "\n",
       "    .dataframe tbody tr th {\n",
       "        vertical-align: top;\n",
       "    }\n",
       "\n",
       "    .dataframe thead th {\n",
       "        text-align: right;\n",
       "    }\n",
       "</style>\n",
       "<table border=\"1\" class=\"dataframe\">\n",
       "  <thead>\n",
       "    <tr style=\"text-align: right;\">\n",
       "      <th></th>\n",
       "      <th>id</th>\n",
       "      <th>gender</th>\n",
       "      <th>age</th>\n",
       "      <th>hypertension</th>\n",
       "      <th>heart_disease</th>\n",
       "      <th>ever_married</th>\n",
       "      <th>work_type</th>\n",
       "      <th>Residence_type</th>\n",
       "      <th>avg_glucose_level</th>\n",
       "      <th>bmi</th>\n",
       "      <th>smoking_status</th>\n",
       "      <th>stroke</th>\n",
       "    </tr>\n",
       "  </thead>\n",
       "  <tbody>\n",
       "    <tr>\n",
       "      <th>0</th>\n",
       "      <td>9046</td>\n",
       "      <td>Male</td>\n",
       "      <td>67.0</td>\n",
       "      <td>0</td>\n",
       "      <td>1</td>\n",
       "      <td>Yes</td>\n",
       "      <td>Private</td>\n",
       "      <td>Urban</td>\n",
       "      <td>228.69</td>\n",
       "      <td>36.6</td>\n",
       "      <td>formerly smoked</td>\n",
       "      <td>1</td>\n",
       "    </tr>\n",
       "    <tr>\n",
       "      <th>1</th>\n",
       "      <td>51676</td>\n",
       "      <td>Female</td>\n",
       "      <td>61.0</td>\n",
       "      <td>0</td>\n",
       "      <td>0</td>\n",
       "      <td>Yes</td>\n",
       "      <td>Self-employed</td>\n",
       "      <td>Rural</td>\n",
       "      <td>202.21</td>\n",
       "      <td>NaN</td>\n",
       "      <td>never smoked</td>\n",
       "      <td>1</td>\n",
       "    </tr>\n",
       "    <tr>\n",
       "      <th>2</th>\n",
       "      <td>31112</td>\n",
       "      <td>Male</td>\n",
       "      <td>80.0</td>\n",
       "      <td>0</td>\n",
       "      <td>1</td>\n",
       "      <td>Yes</td>\n",
       "      <td>Private</td>\n",
       "      <td>Rural</td>\n",
       "      <td>105.92</td>\n",
       "      <td>32.5</td>\n",
       "      <td>never smoked</td>\n",
       "      <td>1</td>\n",
       "    </tr>\n",
       "    <tr>\n",
       "      <th>3</th>\n",
       "      <td>60182</td>\n",
       "      <td>Female</td>\n",
       "      <td>49.0</td>\n",
       "      <td>0</td>\n",
       "      <td>0</td>\n",
       "      <td>Yes</td>\n",
       "      <td>Private</td>\n",
       "      <td>Urban</td>\n",
       "      <td>171.23</td>\n",
       "      <td>34.4</td>\n",
       "      <td>smokes</td>\n",
       "      <td>1</td>\n",
       "    </tr>\n",
       "    <tr>\n",
       "      <th>4</th>\n",
       "      <td>1665</td>\n",
       "      <td>Female</td>\n",
       "      <td>79.0</td>\n",
       "      <td>1</td>\n",
       "      <td>0</td>\n",
       "      <td>Yes</td>\n",
       "      <td>Self-employed</td>\n",
       "      <td>Rural</td>\n",
       "      <td>174.12</td>\n",
       "      <td>24.0</td>\n",
       "      <td>never smoked</td>\n",
       "      <td>1</td>\n",
       "    </tr>\n",
       "  </tbody>\n",
       "</table>\n",
       "</div>"
      ],
      "text/plain": [
       "      id  gender   age  hypertension  heart_disease ever_married  \\\n",
       "0   9046    Male  67.0             0              1          Yes   \n",
       "1  51676  Female  61.0             0              0          Yes   \n",
       "2  31112    Male  80.0             0              1          Yes   \n",
       "3  60182  Female  49.0             0              0          Yes   \n",
       "4   1665  Female  79.0             1              0          Yes   \n",
       "\n",
       "       work_type Residence_type  avg_glucose_level   bmi   smoking_status  \\\n",
       "0        Private          Urban             228.69  36.6  formerly smoked   \n",
       "1  Self-employed          Rural             202.21   NaN     never smoked   \n",
       "2        Private          Rural             105.92  32.5     never smoked   \n",
       "3        Private          Urban             171.23  34.4           smokes   \n",
       "4  Self-employed          Rural             174.12  24.0     never smoked   \n",
       "\n",
       "   stroke  \n",
       "0       1  \n",
       "1       1  \n",
       "2       1  \n",
       "3       1  \n",
       "4       1  "
      ]
     },
     "execution_count": 4,
     "metadata": {},
     "output_type": "execute_result"
    }
   ],
   "source": [
    "dataset.head()"
   ]
  },
  {
   "cell_type": "code",
   "execution_count": 5,
   "metadata": {},
   "outputs": [
    {
     "data": {
      "text/plain": [
       "Female    2994\n",
       "Male      2115\n",
       "Other        1\n",
       "Name: gender, dtype: int64"
      ]
     },
     "execution_count": 5,
     "metadata": {},
     "output_type": "execute_result"
    }
   ],
   "source": [
    "dataset['gender'].value_counts()"
   ]
  },
  {
   "cell_type": "code",
   "execution_count": 6,
   "metadata": {},
   "outputs": [],
   "source": [
    "dataset.replace({'gender':{'Male':2,'Female':1,'Other':0}},inplace=True)"
   ]
  },
  {
   "cell_type": "code",
   "execution_count": 7,
   "metadata": {},
   "outputs": [
    {
     "data": {
      "text/plain": [
       "Private          2925\n",
       "Self-employed     819\n",
       "children          687\n",
       "Govt_job          657\n",
       "Never_worked       22\n",
       "Name: work_type, dtype: int64"
      ]
     },
     "execution_count": 7,
     "metadata": {},
     "output_type": "execute_result"
    }
   ],
   "source": [
    "dataset['work_type'].value_counts()"
   ]
  },
  {
   "cell_type": "code",
   "execution_count": 8,
   "metadata": {},
   "outputs": [],
   "source": [
    "dataset.replace({'work_type':{'Private':4,'Self-employed':3,'children':2,'Govt_job':1,'Never_worked':0}},inplace=True)"
   ]
  },
  {
   "cell_type": "code",
   "execution_count": 9,
   "metadata": {},
   "outputs": [
    {
     "data": {
      "text/plain": [
       "Yes    3353\n",
       "No     1757\n",
       "Name: ever_married, dtype: int64"
      ]
     },
     "execution_count": 9,
     "metadata": {},
     "output_type": "execute_result"
    }
   ],
   "source": [
    "dataset['ever_married'].value_counts()"
   ]
  },
  {
   "cell_type": "code",
   "execution_count": 10,
   "metadata": {},
   "outputs": [],
   "source": [
    "dataset.replace({'ever_married':{'Yes':1,'No':0}},inplace=True)"
   ]
  },
  {
   "cell_type": "code",
   "execution_count": 11,
   "metadata": {},
   "outputs": [
    {
     "data": {
      "text/plain": [
       "Urban    2596\n",
       "Rural    2514\n",
       "Name: Residence_type, dtype: int64"
      ]
     },
     "execution_count": 11,
     "metadata": {},
     "output_type": "execute_result"
    }
   ],
   "source": [
    "dataset['Residence_type'].value_counts()"
   ]
  },
  {
   "cell_type": "code",
   "execution_count": 12,
   "metadata": {},
   "outputs": [],
   "source": [
    "dataset.replace({'Residence_type':{'Urban':1,'Rural':0}},inplace=True)"
   ]
  },
  {
   "cell_type": "code",
   "execution_count": 13,
   "metadata": {},
   "outputs": [
    {
     "data": {
      "text/plain": [
       "never smoked       1892\n",
       "Unknown            1544\n",
       "formerly smoked     885\n",
       "smokes              789\n",
       "Name: smoking_status, dtype: int64"
      ]
     },
     "execution_count": 13,
     "metadata": {},
     "output_type": "execute_result"
    }
   ],
   "source": [
    "dataset['smoking_status'].value_counts()"
   ]
  },
  {
   "cell_type": "code",
   "execution_count": 14,
   "metadata": {},
   "outputs": [],
   "source": [
    "dataset.replace({'smoking_status':{'never smoked':0,'Unknown':1,'formerly smoked':2,'smokes':3}},inplace=True)"
   ]
  },
  {
   "cell_type": "code",
   "execution_count": 15,
   "metadata": {},
   "outputs": [
    {
     "data": {
      "text/html": [
       "<div>\n",
       "<style scoped>\n",
       "    .dataframe tbody tr th:only-of-type {\n",
       "        vertical-align: middle;\n",
       "    }\n",
       "\n",
       "    .dataframe tbody tr th {\n",
       "        vertical-align: top;\n",
       "    }\n",
       "\n",
       "    .dataframe thead th {\n",
       "        text-align: right;\n",
       "    }\n",
       "</style>\n",
       "<table border=\"1\" class=\"dataframe\">\n",
       "  <thead>\n",
       "    <tr style=\"text-align: right;\">\n",
       "      <th></th>\n",
       "      <th>id</th>\n",
       "      <th>gender</th>\n",
       "      <th>age</th>\n",
       "      <th>hypertension</th>\n",
       "      <th>heart_disease</th>\n",
       "      <th>ever_married</th>\n",
       "      <th>work_type</th>\n",
       "      <th>Residence_type</th>\n",
       "      <th>avg_glucose_level</th>\n",
       "      <th>bmi</th>\n",
       "      <th>smoking_status</th>\n",
       "      <th>stroke</th>\n",
       "    </tr>\n",
       "  </thead>\n",
       "  <tbody>\n",
       "    <tr>\n",
       "      <th>0</th>\n",
       "      <td>9046</td>\n",
       "      <td>2</td>\n",
       "      <td>67.0</td>\n",
       "      <td>0</td>\n",
       "      <td>1</td>\n",
       "      <td>1</td>\n",
       "      <td>4</td>\n",
       "      <td>1</td>\n",
       "      <td>228.69</td>\n",
       "      <td>36.6</td>\n",
       "      <td>2</td>\n",
       "      <td>1</td>\n",
       "    </tr>\n",
       "    <tr>\n",
       "      <th>1</th>\n",
       "      <td>51676</td>\n",
       "      <td>1</td>\n",
       "      <td>61.0</td>\n",
       "      <td>0</td>\n",
       "      <td>0</td>\n",
       "      <td>1</td>\n",
       "      <td>3</td>\n",
       "      <td>0</td>\n",
       "      <td>202.21</td>\n",
       "      <td>NaN</td>\n",
       "      <td>0</td>\n",
       "      <td>1</td>\n",
       "    </tr>\n",
       "    <tr>\n",
       "      <th>2</th>\n",
       "      <td>31112</td>\n",
       "      <td>2</td>\n",
       "      <td>80.0</td>\n",
       "      <td>0</td>\n",
       "      <td>1</td>\n",
       "      <td>1</td>\n",
       "      <td>4</td>\n",
       "      <td>0</td>\n",
       "      <td>105.92</td>\n",
       "      <td>32.5</td>\n",
       "      <td>0</td>\n",
       "      <td>1</td>\n",
       "    </tr>\n",
       "    <tr>\n",
       "      <th>3</th>\n",
       "      <td>60182</td>\n",
       "      <td>1</td>\n",
       "      <td>49.0</td>\n",
       "      <td>0</td>\n",
       "      <td>0</td>\n",
       "      <td>1</td>\n",
       "      <td>4</td>\n",
       "      <td>1</td>\n",
       "      <td>171.23</td>\n",
       "      <td>34.4</td>\n",
       "      <td>3</td>\n",
       "      <td>1</td>\n",
       "    </tr>\n",
       "    <tr>\n",
       "      <th>4</th>\n",
       "      <td>1665</td>\n",
       "      <td>1</td>\n",
       "      <td>79.0</td>\n",
       "      <td>1</td>\n",
       "      <td>0</td>\n",
       "      <td>1</td>\n",
       "      <td>3</td>\n",
       "      <td>0</td>\n",
       "      <td>174.12</td>\n",
       "      <td>24.0</td>\n",
       "      <td>0</td>\n",
       "      <td>1</td>\n",
       "    </tr>\n",
       "  </tbody>\n",
       "</table>\n",
       "</div>"
      ],
      "text/plain": [
       "      id  gender   age  hypertension  heart_disease  ever_married  work_type  \\\n",
       "0   9046       2  67.0             0              1             1          4   \n",
       "1  51676       1  61.0             0              0             1          3   \n",
       "2  31112       2  80.0             0              1             1          4   \n",
       "3  60182       1  49.0             0              0             1          4   \n",
       "4   1665       1  79.0             1              0             1          3   \n",
       "\n",
       "   Residence_type  avg_glucose_level   bmi  smoking_status  stroke  \n",
       "0               1             228.69  36.6               2       1  \n",
       "1               0             202.21   NaN               0       1  \n",
       "2               0             105.92  32.5               0       1  \n",
       "3               1             171.23  34.4               3       1  \n",
       "4               0             174.12  24.0               0       1  "
      ]
     },
     "execution_count": 15,
     "metadata": {},
     "output_type": "execute_result"
    }
   ],
   "source": [
    "dataset.head()"
   ]
  },
  {
   "cell_type": "code",
   "execution_count": 16,
   "metadata": {},
   "outputs": [
    {
     "name": "stdout",
     "output_type": "stream",
     "text": [
      "<class 'pandas.core.frame.DataFrame'>\n",
      "RangeIndex: 5110 entries, 0 to 5109\n",
      "Data columns (total 12 columns):\n",
      " #   Column             Non-Null Count  Dtype  \n",
      "---  ------             --------------  -----  \n",
      " 0   id                 5110 non-null   int64  \n",
      " 1   gender             5110 non-null   int64  \n",
      " 2   age                5110 non-null   float64\n",
      " 3   hypertension       5110 non-null   int64  \n",
      " 4   heart_disease      5110 non-null   int64  \n",
      " 5   ever_married       5110 non-null   int64  \n",
      " 6   work_type          5110 non-null   int64  \n",
      " 7   Residence_type     5110 non-null   int64  \n",
      " 8   avg_glucose_level  5110 non-null   float64\n",
      " 9   bmi                4909 non-null   float64\n",
      " 10  smoking_status     5110 non-null   int64  \n",
      " 11  stroke             5110 non-null   int64  \n",
      "dtypes: float64(3), int64(9)\n",
      "memory usage: 479.2 KB\n"
     ]
    }
   ],
   "source": [
    "dataset.info()"
   ]
  },
  {
   "cell_type": "code",
   "execution_count": 17,
   "metadata": {},
   "outputs": [],
   "source": [
    "X = dataset.iloc[:,:-1].values\n",
    "y = dataset.iloc[:,-1].values"
   ]
  },
  {
   "cell_type": "code",
   "execution_count": 18,
   "metadata": {},
   "outputs": [
    {
     "data": {
      "text/plain": [
       "(5110, 12)"
      ]
     },
     "execution_count": 18,
     "metadata": {},
     "output_type": "execute_result"
    }
   ],
   "source": [
    "dataset.shape"
   ]
  },
  {
   "cell_type": "code",
   "execution_count": 19,
   "metadata": {},
   "outputs": [],
   "source": [
    "from sklearn.impute import SimpleImputer\n",
    "imputer = SimpleImputer(missing_values=np.nan, strategy='mean')\n",
    "imputer.fit(X[:, 9:10])    \n",
    "X[:, 9:10] = imputer.transform(X[:, 9:10])"
   ]
  },
  {
   "cell_type": "code",
   "execution_count": 20,
   "metadata": {},
   "outputs": [
    {
     "data": {
      "text/plain": [
       "array([[9.04600000e+03, 2.00000000e+00, 6.70000000e+01, ...,\n",
       "        2.28690000e+02, 3.66000000e+01, 2.00000000e+00],\n",
       "       [5.16760000e+04, 1.00000000e+00, 6.10000000e+01, ...,\n",
       "        2.02210000e+02, 2.88932369e+01, 0.00000000e+00],\n",
       "       [3.11120000e+04, 2.00000000e+00, 8.00000000e+01, ...,\n",
       "        1.05920000e+02, 3.25000000e+01, 0.00000000e+00],\n",
       "       ...,\n",
       "       [1.97230000e+04, 1.00000000e+00, 3.50000000e+01, ...,\n",
       "        8.29900000e+01, 3.06000000e+01, 0.00000000e+00],\n",
       "       [3.75440000e+04, 2.00000000e+00, 5.10000000e+01, ...,\n",
       "        1.66290000e+02, 2.56000000e+01, 2.00000000e+00],\n",
       "       [4.46790000e+04, 1.00000000e+00, 4.40000000e+01, ...,\n",
       "        8.52800000e+01, 2.62000000e+01, 1.00000000e+00]])"
      ]
     },
     "execution_count": 20,
     "metadata": {},
     "output_type": "execute_result"
    }
   ],
   "source": [
    "X"
   ]
  },
  {
   "cell_type": "markdown",
   "metadata": {},
   "source": [
    "Feature Scaling"
   ]
  },
  {
   "cell_type": "code",
   "execution_count": 21,
   "metadata": {},
   "outputs": [],
   "source": [
    "from sklearn.preprocessing import StandardScaler\n",
    "sc = StandardScaler()\n",
    "X = sc.fit_transform(X)"
   ]
  },
  {
   "cell_type": "markdown",
   "metadata": {},
   "source": [
    "Spliting into Training and Testing Dataset"
   ]
  },
  {
   "cell_type": "code",
   "execution_count": 22,
   "metadata": {},
   "outputs": [],
   "source": [
    "from sklearn.model_selection import train_test_split\n",
    "X_train,X_test,y_train,y_test = train_test_split(X,y,test_size=0.2,random_state=0)"
   ]
  },
  {
   "cell_type": "markdown",
   "metadata": {},
   "source": [
    "Implementing Artificial Neural Networks"
   ]
  },
  {
   "cell_type": "code",
   "execution_count": 23,
   "metadata": {},
   "outputs": [],
   "source": [
    "import tensorflow as tf\n",
    "\n",
    "ann = tf.keras.Sequential()\n",
    "ann.add(tf.keras.layers.Dense(units=20, activation='relu')) # Input layer\n",
    "ann.add(tf.keras.layers.Dense(units=20, activation='relu')) # Hidden Layer\n",
    "ann.add(tf.keras.layers.Dense(units=1, activation='sigmoid')) # Output Layer"
   ]
  },
  {
   "cell_type": "code",
   "execution_count": 24,
   "metadata": {},
   "outputs": [
    {
     "name": "stdout",
     "output_type": "stream",
     "text": [
      "Epoch 1/50\n",
      "205/205 [==============================] - 4s 6ms/step - loss: 0.3003 - accuracy: 0.9261\n",
      "Epoch 2/50\n",
      "205/205 [==============================] - 1s 6ms/step - loss: 0.1705 - accuracy: 0.9523\n",
      "Epoch 3/50\n",
      "205/205 [==============================] - 1s 7ms/step - loss: 0.1602 - accuracy: 0.9523\n",
      "Epoch 4/50\n",
      "205/205 [==============================] - 1s 7ms/step - loss: 0.1549 - accuracy: 0.9523\n",
      "Epoch 5/50\n",
      "205/205 [==============================] - 1s 7ms/step - loss: 0.1517 - accuracy: 0.9525\n",
      "Epoch 6/50\n",
      "205/205 [==============================] - 1s 7ms/step - loss: 0.1493 - accuracy: 0.9525\n",
      "Epoch 7/50\n",
      "205/205 [==============================] - 1s 7ms/step - loss: 0.1481 - accuracy: 0.9523\n",
      "Epoch 8/50\n",
      "205/205 [==============================] - 2s 7ms/step - loss: 0.1466 - accuracy: 0.9521\n",
      "Epoch 9/50\n",
      "205/205 [==============================] - 1s 7ms/step - loss: 0.1455 - accuracy: 0.9528\n",
      "Epoch 10/50\n",
      "205/205 [==============================] - 1s 7ms/step - loss: 0.1448 - accuracy: 0.9521\n",
      "Epoch 11/50\n",
      "205/205 [==============================] - 1s 7ms/step - loss: 0.1441 - accuracy: 0.9525\n",
      "Epoch 12/50\n",
      "205/205 [==============================] - 1s 7ms/step - loss: 0.1432 - accuracy: 0.9525\n",
      "Epoch 13/50\n",
      "205/205 [==============================] - 1s 7ms/step - loss: 0.1425 - accuracy: 0.9523\n",
      "Epoch 14/50\n",
      "205/205 [==============================] - 1s 7ms/step - loss: 0.1419 - accuracy: 0.9523\n",
      "Epoch 15/50\n",
      "205/205 [==============================] - 1s 7ms/step - loss: 0.1415 - accuracy: 0.9525\n",
      "Epoch 16/50\n",
      "205/205 [==============================] - 1s 7ms/step - loss: 0.1406 - accuracy: 0.9521\n",
      "Epoch 17/50\n",
      "205/205 [==============================] - 1s 7ms/step - loss: 0.1405 - accuracy: 0.9528\n",
      "Epoch 18/50\n",
      "205/205 [==============================] - 1s 7ms/step - loss: 0.1403 - accuracy: 0.9521\n",
      "Epoch 19/50\n",
      "205/205 [==============================] - 1s 7ms/step - loss: 0.1395 - accuracy: 0.9523\n",
      "Epoch 20/50\n",
      "205/205 [==============================] - 1s 7ms/step - loss: 0.1393 - accuracy: 0.9521\n",
      "Epoch 21/50\n",
      "205/205 [==============================] - 1s 7ms/step - loss: 0.1388 - accuracy: 0.9521\n",
      "Epoch 22/50\n",
      "205/205 [==============================] - 1s 7ms/step - loss: 0.1384 - accuracy: 0.9525\n",
      "Epoch 23/50\n",
      "205/205 [==============================] - 1s 7ms/step - loss: 0.1383 - accuracy: 0.9521\n",
      "Epoch 24/50\n",
      "205/205 [==============================] - 1s 7ms/step - loss: 0.1372 - accuracy: 0.9528\n",
      "Epoch 25/50\n",
      "205/205 [==============================] - 1s 7ms/step - loss: 0.1372 - accuracy: 0.9528\n",
      "Epoch 26/50\n",
      "205/205 [==============================] - 1s 7ms/step - loss: 0.1366 - accuracy: 0.9525\n",
      "Epoch 27/50\n",
      "205/205 [==============================] - 1s 7ms/step - loss: 0.1363 - accuracy: 0.9525\n",
      "Epoch 28/50\n",
      "205/205 [==============================] - 1s 7ms/step - loss: 0.1354 - accuracy: 0.9530\n",
      "Epoch 29/50\n",
      "205/205 [==============================] - 1s 7ms/step - loss: 0.1357 - accuracy: 0.9523\n",
      "Epoch 30/50\n",
      "205/205 [==============================] - 1s 7ms/step - loss: 0.1351 - accuracy: 0.9525\n",
      "Epoch 31/50\n",
      "205/205 [==============================] - 1s 7ms/step - loss: 0.1347 - accuracy: 0.9523\n",
      "Epoch 32/50\n",
      "205/205 [==============================] - 1s 7ms/step - loss: 0.1340 - accuracy: 0.9528\n",
      "Epoch 33/50\n",
      "205/205 [==============================] - 1s 7ms/step - loss: 0.1332 - accuracy: 0.9525\n",
      "Epoch 34/50\n",
      "205/205 [==============================] - 1s 7ms/step - loss: 0.1339 - accuracy: 0.9528\n",
      "Epoch 35/50\n",
      "205/205 [==============================] - 1s 7ms/step - loss: 0.1335 - accuracy: 0.9533\n",
      "Epoch 36/50\n",
      "205/205 [==============================] - 1s 7ms/step - loss: 0.1328 - accuracy: 0.9533\n",
      "Epoch 37/50\n",
      "205/205 [==============================] - 1s 7ms/step - loss: 0.1333 - accuracy: 0.9533\n",
      "Epoch 38/50\n",
      "205/205 [==============================] - 1s 7ms/step - loss: 0.1314 - accuracy: 0.9533\n",
      "Epoch 39/50\n",
      "205/205 [==============================] - 1s 7ms/step - loss: 0.1319 - accuracy: 0.9528\n",
      "Epoch 40/50\n",
      "205/205 [==============================] - 1s 7ms/step - loss: 0.1313 - accuracy: 0.9530\n",
      "Epoch 41/50\n",
      "205/205 [==============================] - 1s 7ms/step - loss: 0.1312 - accuracy: 0.9530\n",
      "Epoch 42/50\n",
      "205/205 [==============================] - 2s 8ms/step - loss: 0.1298 - accuracy: 0.9533\n",
      "Epoch 43/50\n",
      "205/205 [==============================] - 2s 7ms/step - loss: 0.1301 - accuracy: 0.9535\n",
      "Epoch 44/50\n",
      "205/205 [==============================] - 2s 8ms/step - loss: 0.1300 - accuracy: 0.9543\n",
      "Epoch 45/50\n",
      "205/205 [==============================] - 1s 7ms/step - loss: 0.1290 - accuracy: 0.9535\n",
      "Epoch 46/50\n",
      "205/205 [==============================] - 1s 7ms/step - loss: 0.1287 - accuracy: 0.9533\n",
      "Epoch 47/50\n",
      "205/205 [==============================] - 1s 7ms/step - loss: 0.1279 - accuracy: 0.9540\n",
      "Epoch 48/50\n",
      "205/205 [==============================] - 1s 7ms/step - loss: 0.1279 - accuracy: 0.9545\n",
      "Epoch 49/50\n",
      "205/205 [==============================] - 1s 7ms/step - loss: 0.1273 - accuracy: 0.9550\n",
      "Epoch 50/50\n",
      "205/205 [==============================] - 1s 7ms/step - loss: 0.1269 - accuracy: 0.9545\n"
     ]
    },
    {
     "data": {
      "text/plain": [
       "<keras.callbacks.History at 0x186a5333fa0>"
      ]
     },
     "execution_count": 24,
     "metadata": {},
     "output_type": "execute_result"
    }
   ],
   "source": [
    "ann.compile(optimizer='adam',loss='binary_crossentropy', metrics=['accuracy']) # Compiling the ANN\n",
    "ann.fit(X_train,y_train,batch_size=20,epochs=50) "
   ]
  },
  {
   "cell_type": "code",
   "execution_count": 25,
   "metadata": {},
   "outputs": [],
   "source": [
    "y_pred = ann.predict(X_test)"
   ]
  },
  {
   "cell_type": "code",
   "execution_count": 26,
   "metadata": {},
   "outputs": [],
   "source": [
    "y_pred2 = []\n",
    "answers = []\n",
    "for i in y_pred:\n",
    "    for j in i:\n",
    "        if j>=0.5:\n",
    "            y_pred2.append(1)\n",
    "        else:\n",
    "            y_pred2.append(0)"
   ]
  },
  {
   "cell_type": "code",
   "execution_count": 27,
   "metadata": {},
   "outputs": [
    {
     "name": "stdout",
     "output_type": "stream",
     "text": [
      "Accuracy:  94.62 %\n"
     ]
    }
   ],
   "source": [
    "from sklearn.metrics import accuracy_score\n",
    "print(\"Accuracy: \",round(accuracy_score(y_test,y_pred2)*100,2),\"%\")"
   ]
  }
 ],
 "metadata": {
  "kernelspec": {
   "display_name": "Python 3.9.7 64-bit",
   "language": "python",
   "name": "python3"
  },
  "language_info": {
   "codemirror_mode": {
    "name": "ipython",
    "version": 3
   },
   "file_extension": ".py",
   "mimetype": "text/x-python",
   "name": "python",
   "nbconvert_exporter": "python",
   "pygments_lexer": "ipython3",
   "version": "3.9.7"
  },
  "orig_nbformat": 4,
  "vscode": {
   "interpreter": {
    "hash": "fae8569e15c78cb7328e03e15eed64ee3a3442bbcd4b38b699871507cb701534"
   }
  }
 },
 "nbformat": 4,
 "nbformat_minor": 2
}
