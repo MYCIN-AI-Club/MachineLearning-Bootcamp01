{
 "cells": [
  {
   "cell_type": "code",
   "execution_count": 1,
   "metadata": {},
   "outputs": [
    {
     "name": "stderr",
     "output_type": "stream",
     "text": [
      "C:\\Users\\DELL\\anaconda3\\lib\\site-packages\\sklearn\\base.py:310: UserWarning: Trying to unpickle estimator DecisionTreeRegressor from version 0.23.2 when using version 0.24.2. This might lead to breaking code or invalid results. Use at your own risk.\n",
      "  warnings.warn(\n",
      "C:\\Users\\DELL\\anaconda3\\lib\\site-packages\\sklearn\\base.py:310: UserWarning: Trying to unpickle estimator RandomForestRegressor from version 0.23.2 when using version 0.24.2. This might lead to breaking code or invalid results. Use at your own risk.\n",
      "  warnings.warn(\n"
     ]
    }
   ],
   "source": [
    "import joblib\n",
    "model = joblib.load(r'C:\\Users\\DELL\\Desktop\\Kaggle+HE\\Github GSSoC21\\ML-ProjectYard\\Laptop Price Prediction C\\Model\\LaptopPricePrediction.pkl')"
   ]
  },
  {
   "cell_type": "markdown",
   "metadata": {},
   "source": [
    "### GUI"
   ]
  },
  {
   "cell_type": "code",
   "execution_count": 2,
   "metadata": {},
   "outputs": [],
   "source": [
    "import tkinter as tk \n",
    "from matplotlib.backends.backend_tkagg import FigureCanvasTkAgg"
   ]
  },
  {
   "cell_type": "code",
   "execution_count": 3,
   "metadata": {},
   "outputs": [],
   "source": [
    "root = tk.Tk()"
   ]
  },
  {
   "cell_type": "code",
   "execution_count": 4,
   "metadata": {},
   "outputs": [],
   "source": [
    "canvas1 = tk.Canvas(root, width = 500, height = 280)\n",
    "canvas1.pack()"
   ]
  },
  {
   "cell_type": "code",
   "execution_count": 5,
   "metadata": {},
   "outputs": [
    {
     "data": {
      "text/plain": [
       "1"
      ]
     },
     "execution_count": 5,
     "metadata": {},
     "output_type": "execute_result"
    }
   ],
   "source": [
    "heading = tk.Label(root, text='LAPTOP PRICE PREDICTION', justify = 'center')\n",
    "canvas1.create_window(260, 50, window=heading)"
   ]
  },
  {
   "cell_type": "code",
   "execution_count": 6,
   "metadata": {},
   "outputs": [
    {
     "data": {
      "text/plain": [
       "9"
      ]
     },
     "execution_count": 6,
     "metadata": {},
     "output_type": "execute_result"
    }
   ],
   "source": [
    "# Manufacturer label and input box\n",
    "label1 = tk.Label(root, text='Manufacturer: ', justify = 'left')\n",
    "canvas1.create_window(150, 100, window=label1)\n",
    "\n",
    "entry1 = tk.Entry (root) # 1st entry box\n",
    "canvas1.create_window(300, 100, window=entry1)\n",
    "\n",
    "# Ram(gb) label and input box\n",
    "label2 = tk.Label(root, text='Ram(gb): ', justify = 'left')\n",
    "canvas1.create_window(150, 120, window=label2)\n",
    "\n",
    "entry2 = tk.Entry (root) # 2nd entry box\n",
    "canvas1.create_window(300, 120, window=entry2)\n",
    "\n",
    "# SSD(gb) label and input box\n",
    "label3 = tk.Label(root, text='SSD(gb): ', justify = 'left')\n",
    "canvas1.create_window(150, 140, window=label3)\n",
    "\n",
    "entry3 = tk.Entry (root) # 3rd entry box\n",
    "canvas1.create_window(300, 140, window=entry3)\n",
    "\n",
    "# Graphics(gb) label and input box\n",
    "label4 = tk.Label(root, text='Graphics(gb): ', justify = 'left')\n",
    "canvas1.create_window(150, 160, window=label4)\n",
    "\n",
    "entry4 = tk.Entry (root) # 4th entry box\n",
    "canvas1.create_window(300, 160, window=entry4)"
   ]
  },
  {
   "cell_type": "code",
   "execution_count": 7,
   "metadata": {},
   "outputs": [],
   "source": [
    "def values(): \n",
    "    global mf # our 1st input variable\n",
    "    mf = (entry1.get()) \n",
    "    if mf == 'ASUS':\n",
    "        m = 0\n",
    "    elif mf == 'Dell':\n",
    "        m = 1\n",
    "    elif mf == 'HP':\n",
    "        m = 2\n",
    "    elif mf == 'Lenovo':\n",
    "        m = 3\n",
    "    else:\n",
    "        other = tk.Label(root, text='Please enter manufacturer as ASUS/Dell/HP/Lenovo.', bg='red')\n",
    "        canvas1.create_window(260, 240, window=other)\n",
    "        \n",
    "    global r # our 2nd input variable\n",
    "    r = float(entry2.get()) \n",
    "\n",
    "    global s # our 3rd input variable\n",
    "    s = float(entry3.get())\n",
    "\n",
    "    global g # our 4th input variable\n",
    "    g = float(entry4.get())\n",
    "    \n",
    "    Prediction_result  = ('Predicted Laptop Price: ', model.predict([[m, r, s, g]]))\n",
    "    label_Prediction = tk.Label(root, text= Prediction_result, bg='orange')\n",
    "    canvas1.create_window(260, 240, window=label_Prediction)"
   ]
  },
  {
   "cell_type": "code",
   "execution_count": 8,
   "metadata": {},
   "outputs": [
    {
     "data": {
      "text/plain": [
       "10"
      ]
     },
     "execution_count": 8,
     "metadata": {},
     "output_type": "execute_result"
    }
   ],
   "source": [
    "button1 = tk.Button (root, text='Predict Laptop Price',command=values, bg='orange') # button to call the 'values' command above \n",
    "canvas1.create_window(260, 200, window=button1)"
   ]
  },
  {
   "cell_type": "code",
   "execution_count": 9,
   "metadata": {},
   "outputs": [],
   "source": [
    "root.mainloop()"
   ]
  }
 ],
 "metadata": {
  "kernelspec": {
   "display_name": "Python 3",
   "language": "python",
   "name": "python3"
  },
  "language_info": {
   "codemirror_mode": {
    "name": "ipython",
    "version": 3
   },
   "file_extension": ".py",
   "mimetype": "text/x-python",
   "name": "python",
   "nbconvert_exporter": "python",
   "pygments_lexer": "ipython3",
   "version": "3.8.5"
  }
 },
 "nbformat": 4,
 "nbformat_minor": 4
}
